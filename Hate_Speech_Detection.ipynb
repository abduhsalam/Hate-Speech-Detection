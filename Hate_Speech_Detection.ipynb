{
  "nbformat": 4,
  "nbformat_minor": 0,
  "metadata": {
    "colab": {
      "name": "Hate Speech Detection.ipynb",
      "provenance": [],
      "authorship_tag": "ABX9TyOaawz4PwG+RJe2OOykyNSg",
      "include_colab_link": true
    },
    "kernelspec": {
      "name": "python3",
      "display_name": "Python 3"
    }
  },
  "cells": [
    {
      "cell_type": "markdown",
      "metadata": {
        "id": "view-in-github",
        "colab_type": "text"
      },
      "source": [
        "<a href=\"https://colab.research.google.com/github/abduhsalam/Hate-Speech-Detection/blob/main/Hate_Speech_Detection.ipynb\" target=\"_parent\"><img src=\"https://colab.research.google.com/assets/colab-badge.svg\" alt=\"Open In Colab\"/></a>"
      ]
    },
    {
      "cell_type": "markdown",
      "metadata": {
        "id": "zNH65qX6BliF"
      },
      "source": [
        "Abduh Salam DS0101\n",
        "\n",
        "Dataset\n",
        "\n",
        "The dataset is a two columns data of: label - tweet, consist of 713 tweets in Indonesian.\n",
        "\n",
        "The label is Non_HS or HS. Non_HS for \"non-hate-speech\" tweet and HS for \"hate-speech\" tweet.\n",
        "\n",
        "- Number of Non_HS tweets: 453\n",
        "- Number of HS tweets: 260\n",
        "\n",
        "Since this dataset is unbalanced, you might have to do over-sampling/down-sampling in order to create a balanced dataset.\n",
        "\n",
        "Install Liblary"
      ]
    },
    {
      "cell_type": "code",
      "metadata": {
        "colab": {
          "base_uri": "https://localhost:8080/"
        },
        "id": "TZ9ISf81UUZv",
        "outputId": "5e662b90-cb4a-45e9-f81a-3807adb7d08f"
      },
      "source": [
        "! pip3 install nltk\n",
        "! pip3 install Sastrawi\n",
        "import nltk\n",
        "nltk.download('punkt')\n",
        "nltk.download('stopwords')"
      ],
      "execution_count": 21,
      "outputs": [
        {
          "output_type": "stream",
          "text": [
            "Requirement already satisfied: nltk in /usr/local/lib/python3.6/dist-packages (3.2.5)\n",
            "Requirement already satisfied: six in /usr/local/lib/python3.6/dist-packages (from nltk) (1.15.0)\n",
            "Requirement already satisfied: Sastrawi in /usr/local/lib/python3.6/dist-packages (1.0.1)\n",
            "[nltk_data] Downloading package punkt to /root/nltk_data...\n",
            "[nltk_data]   Package punkt is already up-to-date!\n",
            "[nltk_data] Downloading package stopwords to /root/nltk_data...\n",
            "[nltk_data]   Package stopwords is already up-to-date!\n"
          ],
          "name": "stdout"
        },
        {
          "output_type": "execute_result",
          "data": {
            "text/plain": [
              "True"
            ]
          },
          "metadata": {
            "tags": []
          },
          "execution_count": 21
        }
      ]
    },
    {
      "cell_type": "code",
      "metadata": {
        "colab": {
          "base_uri": "https://localhost:8080/",
          "height": 197
        },
        "id": "qWQdIAlpANjb",
        "outputId": "6ae750a6-bd8f-4dab-c138-56773c12a60d"
      },
      "source": [
        "import pandas as pd\n",
        "\n",
        "df = pd.read_csv('https://raw.githubusercontent.com/abduhsalam/Hate-Speech-Detection/main/IDHSD_RIO_unbalanced_713_2017.txt', sep='\\t', encoding = \"ISO-8859-1\", dtype=str)\n",
        "df.head()"
      ],
      "execution_count": 22,
      "outputs": [
        {
          "output_type": "execute_result",
          "data": {
            "text/html": [
              "<div>\n",
              "<style scoped>\n",
              "    .dataframe tbody tr th:only-of-type {\n",
              "        vertical-align: middle;\n",
              "    }\n",
              "\n",
              "    .dataframe tbody tr th {\n",
              "        vertical-align: top;\n",
              "    }\n",
              "\n",
              "    .dataframe thead th {\n",
              "        text-align: right;\n",
              "    }\n",
              "</style>\n",
              "<table border=\"1\" class=\"dataframe\">\n",
              "  <thead>\n",
              "    <tr style=\"text-align: right;\">\n",
              "      <th></th>\n",
              "      <th>Label</th>\n",
              "      <th>Tweet</th>\n",
              "    </tr>\n",
              "  </thead>\n",
              "  <tbody>\n",
              "    <tr>\n",
              "      <th>0</th>\n",
              "      <td>Non_HS</td>\n",
              "      <td>RT @spardaxyz: Fadli Zon Minta Mendagri Segera...</td>\n",
              "    </tr>\n",
              "    <tr>\n",
              "      <th>1</th>\n",
              "      <td>Non_HS</td>\n",
              "      <td>RT @baguscondromowo: Mereka terus melukai aksi...</td>\n",
              "    </tr>\n",
              "    <tr>\n",
              "      <th>2</th>\n",
              "      <td>Non_HS</td>\n",
              "      <td>Sylvi: bagaimana gurbernur melakukan kekerasan...</td>\n",
              "    </tr>\n",
              "    <tr>\n",
              "      <th>3</th>\n",
              "      <td>Non_HS</td>\n",
              "      <td>Ahmad Dhani Tak Puas Debat Pilkada, Masalah Ja...</td>\n",
              "    </tr>\n",
              "    <tr>\n",
              "      <th>4</th>\n",
              "      <td>Non_HS</td>\n",
              "      <td>RT @lisdaulay28: Waspada KTP palsu.....kawal P...</td>\n",
              "    </tr>\n",
              "  </tbody>\n",
              "</table>\n",
              "</div>"
            ],
            "text/plain": [
              "    Label                                              Tweet\n",
              "0  Non_HS  RT @spardaxyz: Fadli Zon Minta Mendagri Segera...\n",
              "1  Non_HS  RT @baguscondromowo: Mereka terus melukai aksi...\n",
              "2  Non_HS  Sylvi: bagaimana gurbernur melakukan kekerasan...\n",
              "3  Non_HS  Ahmad Dhani Tak Puas Debat Pilkada, Masalah Ja...\n",
              "4  Non_HS  RT @lisdaulay28: Waspada KTP palsu.....kawal P..."
            ]
          },
          "metadata": {
            "tags": []
          },
          "execution_count": 22
        }
      ]
    },
    {
      "cell_type": "code",
      "metadata": {
        "colab": {
          "base_uri": "https://localhost:8080/",
          "height": 197
        },
        "id": "Ch1mzY30O1k6",
        "outputId": "2a099c22-dd72-4843-a2e5-d516e3b8fdbe"
      },
      "source": [
        "import nltk\n",
        "from nltk.corpus import stopwords\n",
        "from Sastrawi.Stemmer.StemmerFactory import StemmerFactory\n",
        "\n",
        "# Convert text to lowercase\n",
        "df['Tweet'] = df['Tweet'].str.lower()\n",
        "\n",
        "# Remove Twitter Post Link and RT word\n",
        "df['Tweet'] = df['Tweet'].replace(r'http\\S+', '', regex=True).replace(r'www\\S+', '', regex=True).replace(r'rt', '', regex=True)\n",
        "\n",
        "# Remove number\n",
        "df['Tweet'] = df['Tweet'].str.replace('\\d+', '')\n",
        "\n",
        "# Remove Punctuation\n",
        "df['Tweet'] = df['Tweet'].str.replace('[^\\w\\s]','')\n",
        "\n",
        "# Remove Whitespaces\n",
        "df[\"Tweet\"] = df['Tweet'].str.strip()\n",
        "\n",
        "# Tokenization\n",
        "df[\"Tweet\"] = df[\"Tweet\"].apply(nltk.word_tokenize)\n",
        "\n",
        "# StopWords Removal\n",
        "stop_words = set(stopwords.words('indonesian'))\n",
        "df[\"Tweet\"] = df[\"Tweet\"].apply(lambda x: [item for item in x if item not in stop_words])\n",
        "\n",
        "# Stemming Indonesian\n",
        "factory = StemmerFactory()\n",
        "stemmer = factory.create_stemmer()\n",
        "df[\"Tweet\"] = df[\"Tweet\"].apply(lambda x: [ stemmer.stem(item) for item in x])\n",
        "\n",
        "df.head()"
      ],
      "execution_count": 23,
      "outputs": [
        {
          "output_type": "execute_result",
          "data": {
            "text/html": [
              "<div>\n",
              "<style scoped>\n",
              "    .dataframe tbody tr th:only-of-type {\n",
              "        vertical-align: middle;\n",
              "    }\n",
              "\n",
              "    .dataframe tbody tr th {\n",
              "        vertical-align: top;\n",
              "    }\n",
              "\n",
              "    .dataframe thead th {\n",
              "        text-align: right;\n",
              "    }\n",
              "</style>\n",
              "<table border=\"1\" class=\"dataframe\">\n",
              "  <thead>\n",
              "    <tr style=\"text-align: right;\">\n",
              "      <th></th>\n",
              "      <th>Label</th>\n",
              "      <th>Tweet</th>\n",
              "    </tr>\n",
              "  </thead>\n",
              "  <tbody>\n",
              "    <tr>\n",
              "      <th>0</th>\n",
              "      <td>Non_HS</td>\n",
              "      <td>[spardaxyz, fadli, zon, mendagri, nonaktif, ah...</td>\n",
              "    </tr>\n",
              "    <tr>\n",
              "      <th>1</th>\n",
              "      <td>Non_HS</td>\n",
              "      <td>[baguscondromowo, luka, aksi, rangka, penjara,...</td>\n",
              "    </tr>\n",
              "    <tr>\n",
              "      <th>2</th>\n",
              "      <td>Non_HS</td>\n",
              "      <td>[sylvi, gurbernur, keras, perempuan, bukti, fo...</td>\n",
              "    </tr>\n",
              "    <tr>\n",
              "      <th>3</th>\n",
              "      <td>Non_HS</td>\n",
              "      <td>[ahmad, dhani, puas, debat, pilkada, jalan, be...</td>\n",
              "    </tr>\n",
              "    <tr>\n",
              "      <th>4</th>\n",
              "      <td>Non_HS</td>\n",
              "      <td>[lisdaulay, waspada, ktp, palsukawal, pilkada]</td>\n",
              "    </tr>\n",
              "  </tbody>\n",
              "</table>\n",
              "</div>"
            ],
            "text/plain": [
              "    Label                                              Tweet\n",
              "0  Non_HS  [spardaxyz, fadli, zon, mendagri, nonaktif, ah...\n",
              "1  Non_HS  [baguscondromowo, luka, aksi, rangka, penjara,...\n",
              "2  Non_HS  [sylvi, gurbernur, keras, perempuan, bukti, fo...\n",
              "3  Non_HS  [ahmad, dhani, puas, debat, pilkada, jalan, be...\n",
              "4  Non_HS     [lisdaulay, waspada, ktp, palsukawal, pilkada]"
            ]
          },
          "metadata": {
            "tags": []
          },
          "execution_count": 23
        }
      ]
    },
    {
      "cell_type": "code",
      "metadata": {
        "colab": {
          "base_uri": "https://localhost:8080/"
        },
        "id": "FC3KAXqKz_9D",
        "outputId": "5d861c3a-098d-452c-ed2a-a0cc9ebe9583"
      },
      "source": [
        "# Set Training and Testing Data (70:30)\n",
        "from sklearn.model_selection import train_test_split, cross_val_score\n",
        "X_train, X_test, y_train, y_test  = train_test_split(df['Tweet'] , df['Label'], shuffle = True, test_size=0.3, random_state=1)\n",
        "\n",
        "# Show the Training and Testing Data\n",
        "print(X_train.shape)\n",
        "print(X_test.shape)\n",
        "print(y_train.shape)\n",
        "print(y_test.shape)"
      ],
      "execution_count": 24,
      "outputs": [
        {
          "output_type": "stream",
          "text": [
            "(499,)\n",
            "(214,)\n",
            "(499,)\n",
            "(214,)\n"
          ],
          "name": "stdout"
        }
      ]
    },
    {
      "cell_type": "markdown",
      "metadata": {
        "id": "V6xkJaVKu08w"
      },
      "source": [
        "# SVM"
      ]
    },
    {
      "cell_type": "code",
      "metadata": {
        "colab": {
          "base_uri": "https://localhost:8080/"
        },
        "id": "1QjyQbZtuHed",
        "outputId": "52a9a993-fcd7-495d-b75c-7491eb3213e8"
      },
      "source": [
        "from sklearn.svm import SVC\n",
        "from sklearn.model_selection import GridSearchCV\n",
        "from sklearn.pipeline import make_pipeline\n",
        "from sklearn.feature_extraction.text import TfidfVectorizer\n",
        "# Import Visualization Package\n",
        "import matplotlib.pyplot as plt\n",
        "import warnings\n",
        "from sklearn import metrics\n",
        "warnings.filterwarnings('ignore')\n",
        "\n",
        "# pipeline combining transformers and estimator\n",
        "svm = make_pipeline(TfidfVectorizer(lowercase=False, preprocessor=' '.join), SVC(random_state=1, probability=True))\n",
        "\n",
        "# grid searh to choose the best (combination of) hyperparameters\n",
        "r=[0.1,1]\n",
        "pg_svm = [{'svc__C':r, 'svc__kernel':['linear']}]\n",
        "\n",
        "gs_svm = GridSearchCV(estimator= svm,                    \n",
        "                    param_grid= pg_svm,\n",
        "                    scoring='accuracy',\n",
        "                    cv=2)\n",
        "\n",
        "# nested cross validation combining grid search (inner loop) and k-fold cv (outter loop)\n",
        "gs_svm_scores = cross_val_score(gs_svm, X=X_train, y=y_train, cv=5,scoring='accuracy', n_jobs=-1)\n",
        "\n",
        "# fit, and fit with best estimator\n",
        "gs_svm.fit(X_train, y_train)\n",
        "gs_svm_best=gs_svm.best_estimator_\n",
        "gs_svm_best.fit(X_train, y_train)\n",
        "\n",
        "y_pred_svm = gs_svm_best.predict(X_test)\n",
        "\n",
        "acc_svm = metrics.accuracy_score(y_test, y_pred_svm)\n",
        "prec_svm = metrics.precision_score(y_test, y_pred_svm, pos_label='Non_HS')\n",
        "rec_svm = metrics.recall_score(y_test, y_pred_svm, pos_label='Non_HS')\n",
        "f1_svm = metrics.f1_score(y_test, y_pred_svm, pos_label='Non_HS')\n",
        "kappa_svm = metrics.cohen_kappa_score(y_test, y_pred_svm)\n",
        "\n",
        "print(\"Accuracy:\", acc_svm)\n",
        "print(\"Precision:\", prec_svm)\n",
        "print(\"Recall:\", rec_svm)\n",
        "print(\"F1 Score:\", f1_svm)\n",
        "print(\"Cohens Kappa Score:\", kappa_svm)\n",
        "\n",
        "# Visualize ROC Curve\n",
        "y_pred_svm_proba = gs_svm_best.predict_proba(X_test)[::,1]\n",
        "fprsvm, tprsvm, _ = metrics.roc_curve(y_test,  y_pred_svm_proba, pos_label=\"Non_HS\")\n",
        "aucsvm = metrics.roc_auc_score(y_test, y_pred_svm_proba)"
      ],
      "execution_count": 25,
      "outputs": [
        {
          "output_type": "stream",
          "text": [
            "Accuracy: 0.8785046728971962\n",
            "Precision: 0.8768115942028986\n",
            "Recall: 0.9307692307692308\n",
            "F1 Score: 0.9029850746268656\n",
            "Cohens Kappa Score: 0.7408718330849479\n"
          ],
          "name": "stdout"
        }
      ]
    },
    {
      "cell_type": "markdown",
      "metadata": {
        "id": "3r6pXoMUu3xy"
      },
      "source": [
        "# KNN"
      ]
    },
    {
      "cell_type": "code",
      "metadata": {
        "colab": {
          "base_uri": "https://localhost:8080/"
        },
        "id": "haTj_j-Su25Y",
        "outputId": "d84ec62a-4c3a-4f93-d5c1-13506bf8d605"
      },
      "source": [
        "# Import Module\n",
        "from sklearn.neighbors import KNeighborsClassifier\n",
        "from sklearn.model_selection import GridSearchCV\n",
        "from sklearn.pipeline import make_pipeline\n",
        "from sklearn.feature_extraction.text import TfidfVectorizer\n",
        "\n",
        "# Modeling KNN Classifier\n",
        "pipe_knn= make_pipeline(TfidfVectorizer(lowercase=False, preprocessor=' '.join), KNeighborsClassifier())\n",
        "gs_knn=GridSearchCV(estimator= pipe_knn,\n",
        "                    param_grid={'kneighborsclassifier__n_neighbors':[4,5,6,7,8]},\n",
        "                    scoring='accuracy',\n",
        "                    cv=10)\n",
        "gs_knn_scores = cross_val_score(gs_knn, X=X_train, y=y_train, cv=5,scoring='accuracy', n_jobs=-1)\n",
        "gs_knn.fit(X_train, y_train)\n",
        "gs_knn_best=gs_knn.best_estimator_\n",
        "gs_knn_best.fit(X_train, y_train)\n",
        "\n",
        "# Predict to Test Data\n",
        "y_pred_knn = gs_knn_best.predict(X_test)\n",
        "\n",
        "# Show the Accuracy, Precision, Recall\n",
        "acc_gs_knn = metrics.accuracy_score(y_test, y_pred_knn)\n",
        "prec_gs_knn = metrics.precision_score(y_test, y_pred_knn, pos_label='Non_HS')\n",
        "rec_gs_knn = metrics.recall_score(y_test, y_pred_knn, pos_label='Non_HS')\n",
        "f1_gs_knn = metrics.f1_score(y_test, y_pred_knn, pos_label='Non_HS')\n",
        "kappa_gs_knn = metrics.cohen_kappa_score(y_test, y_pred_knn)\n",
        "\n",
        "print(\"Accuracy:\", acc_gs_knn)\n",
        "print(\"Precision:\", prec_gs_knn)\n",
        "print(\"Recall:\", rec_gs_knn)\n",
        "print(\"F1 Score:\", f1_gs_knn)\n",
        "print(\"Cohens Kappa Score:\", kappa_gs_knn)\n",
        "\n",
        "# ROC Curve\n",
        "y_pred_knn_proba = gs_knn_best.predict_proba(X_test)[::,1]\n",
        "fprknn, tprknn, _ = metrics.roc_curve(y_test,  y_pred_knn_proba, pos_label=\"Non_HS\")\n",
        "aucknn = metrics.roc_auc_score(y_test, y_pred_knn_proba)"
      ],
      "execution_count": 26,
      "outputs": [
        {
          "output_type": "stream",
          "text": [
            "Accuracy: 0.8317757009345794\n",
            "Precision: 0.8357142857142857\n",
            "Recall: 0.9\n",
            "F1 Score: 0.8666666666666667\n",
            "Cohens Kappa Score: 0.6396632366697849\n"
          ],
          "name": "stdout"
        }
      ]
    },
    {
      "cell_type": "code",
      "metadata": {
        "colab": {
          "base_uri": "https://localhost:8080/",
          "height": 625
        },
        "id": "vIZfyYbOVa6G",
        "outputId": "1bf2d71b-484c-46ca-bbc6-0e5e2c1909b8"
      },
      "source": [
        "# Set Size and Style\n",
        "warnings.filterwarnings('ignore')\n",
        "plt.rcParams['figure.figsize'] = (10, 10)\n",
        "plt.style.use('ggplot')\n",
        "\n",
        "# Comparing ROC Curve\n",
        "plt.plot(fprsvm,tprsvm,label=\"SVM, auc=\"+str(aucsvm))\n",
        "# plt.plot(fprrf,tprrf,label=\"Random Forest, auc=\"+str(aucrf))\n",
        "plt.plot(fprknn,tprknn,label=\"K Nearest Neighbor, auc=\"+str(aucknn))\n",
        "plt.title('ROC Curve')\n",
        "plt.xlabel('False Positive Rate')\n",
        "plt.ylabel('True Positive Rate')\n",
        "plt.legend(loc=4)\n",
        "plt.show()"
      ],
      "execution_count": 27,
      "outputs": [
        {
          "output_type": "display_data",
          "data": {
            "image/png": "[encoded data removed]",
            "text/plain": [
              "<Figure size 720x720 with 1 Axes>"
            ]
          },
          "metadata": {
            "tags": []
          }
        }
      ]
    }
  ]
}